{
 "cells": [
  {
   "cell_type": "markdown",
   "metadata": {},
   "source": [
    "# 1) Parent versus non-parent predictions"
   ]
  },
  {
   "cell_type": "code",
   "execution_count": 14,
   "metadata": {
    "collapsed": false
   },
   "outputs": [
    {
     "data": {
      "text/html": [
       "<div>\n",
       "<table border=\"1\" class=\"dataframe\">\n",
       "  <thead>\n",
       "    <tr style=\"text-align: right;\">\n",
       "      <th></th>\n",
       "      <th>ensg</th>\n",
       "      <th>is_parent</th>\n",
       "      <th>is_5_prime_parent</th>\n",
       "      <th>is_3_prime_parent</th>\n",
       "      <th>is_recurrent_parent</th>\n",
       "      <th>num_fusions</th>\n",
       "      <th>is_oncogene</th>\n",
       "      <th>is_TSG</th>\n",
       "      <th>num_cancers_downreg_TSG</th>\n",
       "      <th>is_cancer</th>\n",
       "      <th>...</th>\n",
       "      <th>max_expression</th>\n",
       "      <th>density_domains</th>\n",
       "      <th>density_INstruct_domains</th>\n",
       "      <th>density_PISA_res</th>\n",
       "      <th>density_ELM_LMs</th>\n",
       "      <th>density_ANCHOR_LMs</th>\n",
       "      <th>density_PTMs</th>\n",
       "      <th>density_PTMcode_sites</th>\n",
       "      <th>density_UB_sites</th>\n",
       "      <th>density_phospho_sites</th>\n",
       "    </tr>\n",
       "  </thead>\n",
       "  <tbody>\n",
       "    <tr>\n",
       "      <th>0</th>\n",
       "      <td>ENSG00000000971</td>\n",
       "      <td>1</td>\n",
       "      <td>1</td>\n",
       "      <td>0</td>\n",
       "      <td>0</td>\n",
       "      <td>1</td>\n",
       "      <td>0</td>\n",
       "      <td>0</td>\n",
       "      <td>0</td>\n",
       "      <td>0</td>\n",
       "      <td>...</td>\n",
       "      <td>9.339995</td>\n",
       "      <td>0.015474</td>\n",
       "      <td>0.001451</td>\n",
       "      <td>0.000000</td>\n",
       "      <td>0.000000</td>\n",
       "      <td>0.001451</td>\n",
       "      <td>0.010155</td>\n",
       "      <td>0.010155</td>\n",
       "      <td>0.000000</td>\n",
       "      <td>0.000000</td>\n",
       "    </tr>\n",
       "    <tr>\n",
       "      <th>1</th>\n",
       "      <td>ENSG00000001626</td>\n",
       "      <td>1</td>\n",
       "      <td>1</td>\n",
       "      <td>1</td>\n",
       "      <td>1</td>\n",
       "      <td>2</td>\n",
       "      <td>0</td>\n",
       "      <td>1</td>\n",
       "      <td>7</td>\n",
       "      <td>0</td>\n",
       "      <td>...</td>\n",
       "      <td>6.515584</td>\n",
       "      <td>0.004540</td>\n",
       "      <td>0.003027</td>\n",
       "      <td>0.022700</td>\n",
       "      <td>0.003027</td>\n",
       "      <td>0.006053</td>\n",
       "      <td>0.049939</td>\n",
       "      <td>0.062046</td>\n",
       "      <td>0.001513</td>\n",
       "      <td>0.042373</td>\n",
       "    </tr>\n",
       "    <tr>\n",
       "      <th>2</th>\n",
       "      <td>ENSG00000001629</td>\n",
       "      <td>1</td>\n",
       "      <td>1</td>\n",
       "      <td>0</td>\n",
       "      <td>0</td>\n",
       "      <td>1</td>\n",
       "      <td>0</td>\n",
       "      <td>0</td>\n",
       "      <td>0</td>\n",
       "      <td>0</td>\n",
       "      <td>...</td>\n",
       "      <td>4.893801</td>\n",
       "      <td>0.005730</td>\n",
       "      <td>0.000000</td>\n",
       "      <td>0.000000</td>\n",
       "      <td>0.003274</td>\n",
       "      <td>0.163720</td>\n",
       "      <td>0.026195</td>\n",
       "      <td>0.000000</td>\n",
       "      <td>0.009823</td>\n",
       "      <td>0.013098</td>\n",
       "    </tr>\n",
       "    <tr>\n",
       "      <th>3</th>\n",
       "      <td>ENSG00000002746</td>\n",
       "      <td>1</td>\n",
       "      <td>0</td>\n",
       "      <td>1</td>\n",
       "      <td>0</td>\n",
       "      <td>1</td>\n",
       "      <td>0</td>\n",
       "      <td>0</td>\n",
       "      <td>0</td>\n",
       "      <td>1</td>\n",
       "      <td>...</td>\n",
       "      <td>4.163691</td>\n",
       "      <td>0.002410</td>\n",
       "      <td>0.000000</td>\n",
       "      <td>0.000000</td>\n",
       "      <td>0.000000</td>\n",
       "      <td>0.062368</td>\n",
       "      <td>0.002712</td>\n",
       "      <td>0.019886</td>\n",
       "      <td>0.002712</td>\n",
       "      <td>0.000000</td>\n",
       "    </tr>\n",
       "    <tr>\n",
       "      <th>4</th>\n",
       "      <td>ENSG00000002822</td>\n",
       "      <td>1</td>\n",
       "      <td>1</td>\n",
       "      <td>1</td>\n",
       "      <td>1</td>\n",
       "      <td>5</td>\n",
       "      <td>0</td>\n",
       "      <td>1</td>\n",
       "      <td>0</td>\n",
       "      <td>0</td>\n",
       "      <td>...</td>\n",
       "      <td>4.546134</td>\n",
       "      <td>0.003087</td>\n",
       "      <td>0.003087</td>\n",
       "      <td>0.342674</td>\n",
       "      <td>0.003087</td>\n",
       "      <td>0.077179</td>\n",
       "      <td>0.086440</td>\n",
       "      <td>0.086440</td>\n",
       "      <td>0.003087</td>\n",
       "      <td>0.080266</td>\n",
       "    </tr>\n",
       "  </tbody>\n",
       "</table>\n",
       "<p>5 rows × 92 columns</p>\n",
       "</div>"
      ],
      "text/plain": [
       "              ensg  is_parent  is_5_prime_parent  is_3_prime_parent  \\\n",
       "0  ENSG00000000971          1                  1                  0   \n",
       "1  ENSG00000001626          1                  1                  1   \n",
       "2  ENSG00000001629          1                  1                  0   \n",
       "3  ENSG00000002746          1                  0                  1   \n",
       "4  ENSG00000002822          1                  1                  1   \n",
       "\n",
       "   is_recurrent_parent  num_fusions  is_oncogene  is_TSG  \\\n",
       "0                    0            1            0       0   \n",
       "1                    1            2            0       1   \n",
       "2                    0            1            0       0   \n",
       "3                    0            1            0       0   \n",
       "4                    1            5            0       1   \n",
       "\n",
       "   num_cancers_downreg_TSG  is_cancer          ...            max_expression  \\\n",
       "0                        0          0          ...                  9.339995   \n",
       "1                        7          0          ...                  6.515584   \n",
       "2                        0          0          ...                  4.893801   \n",
       "3                        0          1          ...                  4.163691   \n",
       "4                        0          0          ...                  4.546134   \n",
       "\n",
       "   density_domains  density_INstruct_domains  density_PISA_res  \\\n",
       "0         0.015474                  0.001451          0.000000   \n",
       "1         0.004540                  0.003027          0.022700   \n",
       "2         0.005730                  0.000000          0.000000   \n",
       "3         0.002410                  0.000000          0.000000   \n",
       "4         0.003087                  0.003087          0.342674   \n",
       "\n",
       "   density_ELM_LMs  density_ANCHOR_LMs  density_PTMs  density_PTMcode_sites  \\\n",
       "0         0.000000            0.001451      0.010155               0.010155   \n",
       "1         0.003027            0.006053      0.049939               0.062046   \n",
       "2         0.003274            0.163720      0.026195               0.000000   \n",
       "3         0.000000            0.062368      0.002712               0.019886   \n",
       "4         0.003087            0.077179      0.086440               0.086440   \n",
       "\n",
       "   density_UB_sites  density_phospho_sites  \n",
       "0          0.000000               0.000000  \n",
       "1          0.001513               0.042373  \n",
       "2          0.009823               0.013098  \n",
       "3          0.002712               0.000000  \n",
       "4          0.003087               0.080266  \n",
       "\n",
       "[5 rows x 92 columns]"
      ]
     },
     "execution_count": 14,
     "metadata": {},
     "output_type": "execute_result"
    }
   ],
   "source": [
    "import csv\n",
    "import pandas as pd\n",
    "import numpy as np\n",
    "from sklearn import preprocessing\n",
    "from sklearn.cross_validation import train_test_split\n",
    "from sklearn.ensemble import RandomForestClassifier\n",
    "from sklearn import metrics\n",
    "from sklearn.grid_search import GridSearchCV\n",
    "\n",
    "# Import the base dataset\n",
    "filepath = \"/Users/natashal/Projects/fusion_ML/features/feature_spaces/downsampled_majority_parent_non_parent_feature_set.csv\"\n",
    "dataset = pd.read_csv(filepath, sep=\",\")\n",
    "dataset.head()"
   ]
  },
  {
   "cell_type": "code",
   "execution_count": 15,
   "metadata": {
    "collapsed": false
   },
   "outputs": [],
   "source": [
    "# drop the labels\n",
    "features = dataset.drop(['ensg', 'is_parent', 'is_5_prime_parent', 'is_3_prime_parent', 'is_recurrent_parent', 'num_fusions'], axis=1)\n",
    "\n",
    "# df to numpy array and split data into X and y\n",
    "npArray = np.array(features)\n",
    "X = npArray[:,:].astype(float)\n",
    "features_considered = np.asarray(features.columns[:])\n",
    "\n",
    "y = dataset['is_parent'].astype(int)"
   ]
  },
  {
   "cell_type": "code",
   "execution_count": 16,
   "metadata": {
    "collapsed": false
   },
   "outputs": [
    {
     "name": "stdout",
     "output_type": "stream",
     "text": [
      "(6302, 92)\n"
     ]
    },
    {
     "data": {
      "text/html": [
       "<div>\n",
       "<table border=\"1\" class=\"dataframe\">\n",
       "  <thead>\n",
       "    <tr style=\"text-align: right;\">\n",
       "      <th></th>\n",
       "      <th>0</th>\n",
       "      <th>1</th>\n",
       "      <th>2</th>\n",
       "      <th>3</th>\n",
       "      <th>4</th>\n",
       "      <th>5</th>\n",
       "      <th>6</th>\n",
       "      <th>7</th>\n",
       "      <th>8</th>\n",
       "      <th>9</th>\n",
       "      <th>...</th>\n",
       "      <th>76</th>\n",
       "      <th>77</th>\n",
       "      <th>78</th>\n",
       "      <th>79</th>\n",
       "      <th>80</th>\n",
       "      <th>81</th>\n",
       "      <th>82</th>\n",
       "      <th>83</th>\n",
       "      <th>84</th>\n",
       "      <th>85</th>\n",
       "    </tr>\n",
       "  </thead>\n",
       "  <tbody>\n",
       "    <tr>\n",
       "      <th>0</th>\n",
       "      <td>0.0</td>\n",
       "      <td>0.0</td>\n",
       "      <td>0.0</td>\n",
       "      <td>0.0</td>\n",
       "      <td>0.0</td>\n",
       "      <td>0.0</td>\n",
       "      <td>0.0</td>\n",
       "      <td>0.0</td>\n",
       "      <td>0.0</td>\n",
       "      <td>0.0</td>\n",
       "      <td>...</td>\n",
       "      <td>9.339995</td>\n",
       "      <td>0.015474</td>\n",
       "      <td>0.001451</td>\n",
       "      <td>0.000000</td>\n",
       "      <td>0.000000</td>\n",
       "      <td>0.001451</td>\n",
       "      <td>0.010155</td>\n",
       "      <td>0.010155</td>\n",
       "      <td>0.000000</td>\n",
       "      <td>0.000000</td>\n",
       "    </tr>\n",
       "    <tr>\n",
       "      <th>1</th>\n",
       "      <td>0.0</td>\n",
       "      <td>1.0</td>\n",
       "      <td>7.0</td>\n",
       "      <td>0.0</td>\n",
       "      <td>0.0</td>\n",
       "      <td>0.0</td>\n",
       "      <td>0.0</td>\n",
       "      <td>0.0</td>\n",
       "      <td>0.0</td>\n",
       "      <td>0.0</td>\n",
       "      <td>...</td>\n",
       "      <td>6.515584</td>\n",
       "      <td>0.004540</td>\n",
       "      <td>0.003027</td>\n",
       "      <td>0.022700</td>\n",
       "      <td>0.003027</td>\n",
       "      <td>0.006053</td>\n",
       "      <td>0.049939</td>\n",
       "      <td>0.062046</td>\n",
       "      <td>0.001513</td>\n",
       "      <td>0.042373</td>\n",
       "    </tr>\n",
       "    <tr>\n",
       "      <th>2</th>\n",
       "      <td>0.0</td>\n",
       "      <td>0.0</td>\n",
       "      <td>0.0</td>\n",
       "      <td>0.0</td>\n",
       "      <td>0.0</td>\n",
       "      <td>0.0</td>\n",
       "      <td>0.0</td>\n",
       "      <td>0.0</td>\n",
       "      <td>0.0</td>\n",
       "      <td>0.0</td>\n",
       "      <td>...</td>\n",
       "      <td>4.893801</td>\n",
       "      <td>0.005730</td>\n",
       "      <td>0.000000</td>\n",
       "      <td>0.000000</td>\n",
       "      <td>0.003274</td>\n",
       "      <td>0.163720</td>\n",
       "      <td>0.026195</td>\n",
       "      <td>0.000000</td>\n",
       "      <td>0.009823</td>\n",
       "      <td>0.013098</td>\n",
       "    </tr>\n",
       "    <tr>\n",
       "      <th>3</th>\n",
       "      <td>0.0</td>\n",
       "      <td>0.0</td>\n",
       "      <td>0.0</td>\n",
       "      <td>1.0</td>\n",
       "      <td>0.0</td>\n",
       "      <td>0.0</td>\n",
       "      <td>0.0</td>\n",
       "      <td>0.0</td>\n",
       "      <td>0.0</td>\n",
       "      <td>0.0</td>\n",
       "      <td>...</td>\n",
       "      <td>4.163691</td>\n",
       "      <td>0.002410</td>\n",
       "      <td>0.000000</td>\n",
       "      <td>0.000000</td>\n",
       "      <td>0.000000</td>\n",
       "      <td>0.062368</td>\n",
       "      <td>0.002712</td>\n",
       "      <td>0.019886</td>\n",
       "      <td>0.002712</td>\n",
       "      <td>0.000000</td>\n",
       "    </tr>\n",
       "    <tr>\n",
       "      <th>4</th>\n",
       "      <td>0.0</td>\n",
       "      <td>1.0</td>\n",
       "      <td>0.0</td>\n",
       "      <td>0.0</td>\n",
       "      <td>0.0</td>\n",
       "      <td>0.0</td>\n",
       "      <td>0.0</td>\n",
       "      <td>0.0</td>\n",
       "      <td>0.0</td>\n",
       "      <td>0.0</td>\n",
       "      <td>...</td>\n",
       "      <td>4.546134</td>\n",
       "      <td>0.003087</td>\n",
       "      <td>0.003087</td>\n",
       "      <td>0.342674</td>\n",
       "      <td>0.003087</td>\n",
       "      <td>0.077179</td>\n",
       "      <td>0.086440</td>\n",
       "      <td>0.086440</td>\n",
       "      <td>0.003087</td>\n",
       "      <td>0.080266</td>\n",
       "    </tr>\n",
       "  </tbody>\n",
       "</table>\n",
       "<p>5 rows × 86 columns</p>\n",
       "</div>"
      ],
      "text/plain": [
       "    0    1    2    3    4    5    6    7    8    9     ...           76  \\\n",
       "0  0.0  0.0  0.0  0.0  0.0  0.0  0.0  0.0  0.0  0.0    ...     9.339995   \n",
       "1  0.0  1.0  7.0  0.0  0.0  0.0  0.0  0.0  0.0  0.0    ...     6.515584   \n",
       "2  0.0  0.0  0.0  0.0  0.0  0.0  0.0  0.0  0.0  0.0    ...     4.893801   \n",
       "3  0.0  0.0  0.0  1.0  0.0  0.0  0.0  0.0  0.0  0.0    ...     4.163691   \n",
       "4  0.0  1.0  0.0  0.0  0.0  0.0  0.0  0.0  0.0  0.0    ...     4.546134   \n",
       "\n",
       "         77        78        79        80        81        82        83  \\\n",
       "0  0.015474  0.001451  0.000000  0.000000  0.001451  0.010155  0.010155   \n",
       "1  0.004540  0.003027  0.022700  0.003027  0.006053  0.049939  0.062046   \n",
       "2  0.005730  0.000000  0.000000  0.003274  0.163720  0.026195  0.000000   \n",
       "3  0.002410  0.000000  0.000000  0.000000  0.062368  0.002712  0.019886   \n",
       "4  0.003087  0.003087  0.342674  0.003087  0.077179  0.086440  0.086440   \n",
       "\n",
       "         84        85  \n",
       "0  0.000000  0.000000  \n",
       "1  0.001513  0.042373  \n",
       "2  0.009823  0.013098  \n",
       "3  0.002712  0.000000  \n",
       "4  0.003087  0.080266  \n",
       "\n",
       "[5 rows x 86 columns]"
      ]
     },
     "execution_count": 16,
     "metadata": {},
     "output_type": "execute_result"
    }
   ],
   "source": [
    "# Examine imputed matrix\n",
    "print (dataset.shape)\n",
    "pd.DataFrame(X).head()"
   ]
  },
  {
   "cell_type": "code",
   "execution_count": 17,
   "metadata": {
    "collapsed": false
   },
   "outputs": [],
   "source": [
    "# Split into training and test sets\n",
    "XTrain, XTest, yTrain, yTest = train_test_split(X, y, random_state=1, test_size=0.30)"
   ]
  },
  {
   "cell_type": "code",
   "execution_count": 18,
   "metadata": {
    "collapsed": false
   },
   "outputs": [
    {
     "data": {
      "text/plain": [
       "GridSearchCV(cv=10, error_score='raise',\n",
       "       estimator=RandomForestClassifier(bootstrap=True, class_weight=None, criterion='gini',\n",
       "            max_depth=None, max_features='auto', max_leaf_nodes=None,\n",
       "            min_samples_leaf=1, min_samples_split=2,\n",
       "            min_weight_fraction_leaf=0.0, n_estimators=10, n_jobs=1,\n",
       "            oob_score=False, random_state=None, verbose=0,\n",
       "            warm_start=False),\n",
       "       fit_params={}, iid=True, n_jobs=4,\n",
       "       param_grid={'max_features': [None, 'sqrt', 'log2'], 'criterion': ['gini', 'entropy'], 'max_depth': [None, 40, 50, 60]},\n",
       "       pre_dispatch='2*n_jobs', refit=True, scoring=None, verbose=0)"
      ]
     },
     "execution_count": 18,
     "metadata": {},
     "output_type": "execute_result"
    }
   ],
   "source": [
    "# Search for good hyperparameter values\n",
    "# Specify values to grid search over\n",
    "# Search for good hyperparameter values\n",
    "criterion = ['gini', 'entropy']\n",
    "max_features = [None, 'sqrt', 'log2'] \n",
    "max_depth = [None, 40, 50, 60]\n",
    " \n",
    "hyperparameters = {\n",
    "    'criterion': criterion, \n",
    "    'max_features': max_features,\n",
    "    'max_depth' : max_depth\n",
    "}\n",
    " \n",
    "# Grid search using cross-validation with 10 fold CV\n",
    "gridCV = GridSearchCV(RandomForestClassifier(), param_grid=hyperparameters, cv=10, n_jobs=4)\n",
    "gridCV.fit(XTrain, yTrain)"
   ]
  },
  {
   "cell_type": "code",
   "execution_count": 19,
   "metadata": {
    "collapsed": false
   },
   "outputs": [
    {
     "name": "stdout",
     "output_type": "stream",
     "text": [
      "The best performing criterion is: entropy\n",
      "The best performing max_features value is: log2\n",
      "The best performing max_depth value is: None\n"
     ]
    }
   ],
   "source": [
    "# Identify optimal hyperparameter values\n",
    "best_criterion      = gridCV.best_params_['criterion']\n",
    "best_max_features   = gridCV.best_params_['max_features']  \n",
    "best_max_depth      = gridCV.best_params_['max_depth']  \n",
    "\n",
    "print(\"The best performing criterion is: {}\".format(best_criterion))\n",
    "print(\"The best performing max_features value is: {}\".format(best_max_features))\n",
    "print(\"The best performing max_depth value is: {}\".format(best_max_depth))"
   ]
  },
  {
   "cell_type": "code",
   "execution_count": 20,
   "metadata": {
    "collapsed": false
   },
   "outputs": [
    {
     "name": "stdout",
     "output_type": "stream",
     "text": [
      "             precision    recall  f1-score   support\n",
      "\n",
      "          0       0.68      0.71      0.69       934\n",
      "          1       0.70      0.67      0.69       957\n",
      "\n",
      "avg / total       0.69      0.69      0.69      1891\n",
      "\n",
      "('Overall Accuracy:', 0.691)\n",
      "[[662 272]\n",
      " [312 645]]\n"
     ]
    }
   ],
   "source": [
    "# Train classifier using optimal hyperparameter values\n",
    "# You could have also gotten this model out from gridCV.best_estimator_\n",
    "rf = RandomForestClassifier(n_estimators=30,\n",
    "                            max_features=best_max_features,\n",
    "                           criterion=best_criterion,\n",
    "                           max_depth=best_max_depth)\n",
    " \n",
    "rf.fit(XTrain, yTrain)\n",
    "rf_predictions = rf.predict(XTest)\n",
    " \n",
    "print (metrics.classification_report(yTest, rf_predictions))\n",
    "print (\"Overall Accuracy:\", round(metrics.accuracy_score(yTest, rf_predictions),3))\n",
    "print (metrics.confusion_matrix(yTest, rf_predictions, labels=None))"
   ]
  },
  {
   "cell_type": "code",
   "execution_count": 21,
   "metadata": {
    "collapsed": false
   },
   "outputs": [
    {
     "data": {
      "text/plain": [
       "(array([0, 1]), array([974, 917]))"
      ]
     },
     "execution_count": 21,
     "metadata": {},
     "output_type": "execute_result"
    }
   ],
   "source": [
    "np.unique(rf_predictions, return_counts=True)"
   ]
  },
  {
   "cell_type": "code",
   "execution_count": 22,
   "metadata": {
    "collapsed": false
   },
   "outputs": [
    {
     "name": "stdout",
     "output_type": "stream",
     "text": [
      "Feature ranking:\n",
      "1. Feature 49, which is avg_num_exons (0.059263110206)\n",
      "2. Feature 74, which is tau (0.0493192325137)\n",
      "3. Feature 75, which is mean_expression (0.0435773582601)\n",
      "4. Feature 76, which is max_expression (0.039705436798)\n",
      "5. Feature 82, which is density_PTMs (0.0386078077357)\n",
      "6. Feature 73, which is eigenvector_centrality (0.037928609145)\n",
      "7. Feature 72, which is closeness_centrality (0.0373506863493)\n",
      "8. Feature 52, which is avg_disorder (0.036101648036)\n",
      "9. Feature 48, which is avg_ensp_length (0.0355816402011)\n",
      "10. Feature 47, which is num_isoforms (0.0330651809741)\n",
      "11. Feature 77, which is density_domains (0.0321703293611)\n",
      "12. Feature 51, which is avg_domain_length (0.0321446355579)\n",
      "13. Feature 59, which is num_PTMs (0.0302985207606)\n",
      "14. Feature 71, which is betweenness_centrality (0.0295918341375)\n",
      "15. Feature 13, which is num_GOSlim_terms (0.0294719809269)\n",
      "16. Feature 70, which is degree_centrality (0.0276875314433)\n",
      "17. Feature 85, which is density_phospho_sites (0.0252319882321)\n",
      "18. Feature 81, which is density_ANCHOR_LMs (0.0246766788901)\n",
      "19. Feature 61, which is num_phospho_sites (0.0243489636342)\n",
      "20. Feature 65, which is num_cancer_interactions (0.024108825645)\n",
      "21. Feature 58, which is num_ANCHOR_LMs (0.0231996269127)\n",
      "22. Feature 50, which is avg_num_domains (0.0218207482828)\n",
      "23. Feature 84, which is density_UB_sites (0.020566466463)\n",
      "24. Feature 12, which is num_GO_terms (0.0203208936475)\n",
      "25. Feature 69, which is num_TSG_interactions (0.0188480015716)\n",
      "26. Feature 60, which is num_UB_sites (0.0158956888893)\n",
      "27. Feature 62, which is num_PTMcode_sites (0.0150444073259)\n",
      "28. Feature 53, which is longest_interacting_segment (0.0131608431527)\n",
      "29. Feature 83, which is density_PTMcode_sites (0.0127574529527)\n",
      "30. Feature 78, which is density_INstruct_domains (0.0106597703995)\n",
      "31. Feature 67, which is num_OG_interactions (0.00942375211126)\n",
      "32. Feature 54, which is num_interacting_segments (0.00822808940982)\n",
      "33. Feature 38, which is loc_cytoplasm (0.00790508584706)\n",
      "34. Feature 79, which is density_PISA_res (0.0062329344745)\n",
      "35. Feature 43, which is loc_nucleus (0.00603059209001)\n",
      "36. Feature 66, which is interacts_with_OG (0.00560447056205)\n",
      "37. Feature 55, which is num_INstruct_domains (0.00508875557096)\n",
      "38. Feature 45, which is loc_plasma_membrane (0.00504317440315)\n",
      "39. Feature 56, which is num_PISA_res (0.00496183074491)\n",
      "40. Feature 46, which is loc_vesicle (0.00495563490438)\n",
      "41. Feature 40, which is loc_endomembrane_system (0.00488888736652)\n",
      "42. Feature 44, which is loc_organelle_lumen (0.00480986206298)\n",
      "43. Feature 41, which is loc_extracellular_region (0.00473510934458)\n",
      "44. Feature 68, which is interacts_with_TSG (0.00470882789538)\n",
      "45. Feature 39, which is loc_cytoskeleton (0.00468269853641)\n",
      "46. Feature 42, which is loc_nucleolus (0.00444093273995)\n",
      "47. Feature 64, which is interacts_with_cancer (0.00430013469836)\n",
      "48. Feature 14, which is is_essential (0.00417019230015)\n",
      "49. Feature 2, which is num_cancers_downreg_TSG (0.00377040888765)\n",
      "50. Feature 3, which is is_cancer (0.0036684784558)\n",
      "51. Feature 37, which is loc_cell_junction (0.00270222367805)\n",
      "52. Feature 80, which is density_ELM_LMs (0.0025927147752)\n",
      "53. Feature 30, which is num_TF_interactions (0.00214316195426)\n",
      "54. Feature 1, which is is_TSG (0.0019977669392)\n",
      "55. Feature 57, which is num_ELM_LMs (0.00181511629563)\n",
      "56. Feature 4, which is is_cancer_stringent (0.00152252830079)\n",
      "57. Feature 31, which is num_TF_activation (0.00141159870483)\n",
      "58. Feature 29, which is is_TF (0.00134377316584)\n",
      "59. Feature 16, which is loss_phenotype (0.00128120664664)\n",
      "60. Feature 17, which is is_kinase (0.00119319252386)\n",
      "61. Feature 34, which is is_histone_modification (0.00110031995337)\n",
      "62. Feature 15, which is is_happloinsufficient (0.00109819922915)\n",
      "63. Feature 11, which is count_tissues_cancer_mutation (0.00106036874759)\n",
      "64. Feature 32, which is num_TF_repression (0.000887901766512)\n",
      "65. Feature 63, which is is_KEGG_cancer_pathway (0.000833418342634)\n",
      "66. Feature 7, which is epithelial_cancer_mutation (0.000766576558778)\n",
      "67. Feature 5, which is somatic_cancer_mutation (0.000748032111537)\n",
      "68. Feature 36, which is is_epigenetic_complex (0.000703899064462)\n",
      "69. Feature 0, which is is_oncogene (0.000668613585441)\n",
      "70. Feature 8, which is leuk_lymph_cancer_mutation (0.000648646753941)\n",
      "71. Feature 6, which is germline_cancer_mutation (0.000430055035431)\n",
      "72. Feature 18, which is kinase_AGC (0.000428324468158)\n",
      "73. Feature 22, which is kinase_CMGC (0.000376872501732)\n",
      "74. Feature 33, which is is_chromatin_remodelling (0.000338039522481)\n",
      "75. Feature 20, which is kinase_CAMK (0.000311807884771)\n",
      "76. Feature 28, which is kinase_Tyr (0.000304683994641)\n",
      "77. Feature 24, which is kinase_Other (0.000231385306591)\n",
      "78. Feature 35, which is is_other_epigenetic (0.000228175379764)\n",
      "79. Feature 19, which is kinase_Atypical (0.000215199530937)\n",
      "80. Feature 9, which is mesenchymal_cancer_mutation (0.000182973615023)\n",
      "81. Feature 27, which is kinase_TKL (0.000143534426027)\n",
      "82. Feature 10, which is other_tissue_cancer_mutation (8.04188935749e-05)\n",
      "83. Feature 23, which is kinase_NEK (2.69343987961e-05)\n",
      "84. Feature 26, which is kinase_STE (2.65851331239e-05)\n",
      "85. Feature 25, which is kinase_RGC (0.0)\n",
      "86. Feature 21, which is kinase_CK1 (0.0)\n"
     ]
    },
    {
     "ename": "NameError",
     "evalue": "name 'plt' is not defined",
     "output_type": "error",
     "traceback": [
      "\u001b[0;31m---------------------------------------------------------------------------\u001b[0m",
      "\u001b[0;31mNameError\u001b[0m                                 Traceback (most recent call last)",
      "\u001b[0;32m<ipython-input-22-f73cfe86d2cb>\u001b[0m in \u001b[0;36m<module>\u001b[0;34m()\u001b[0m\n\u001b[1;32m     13\u001b[0m \u001b[0;34m\u001b[0m\u001b[0m\n\u001b[1;32m     14\u001b[0m \u001b[0;31m# Plot the feature importances of the forest\u001b[0m\u001b[0;34m\u001b[0m\u001b[0;34m\u001b[0m\u001b[0m\n\u001b[0;32m---> 15\u001b[0;31m \u001b[0mplt\u001b[0m\u001b[0;34m.\u001b[0m\u001b[0mfigure\u001b[0m\u001b[0;34m(\u001b[0m\u001b[0;34m)\u001b[0m\u001b[0;34m\u001b[0m\u001b[0m\n\u001b[0m\u001b[1;32m     16\u001b[0m \u001b[0mplt\u001b[0m\u001b[0;34m.\u001b[0m\u001b[0mtitle\u001b[0m\u001b[0;34m(\u001b[0m\u001b[0;34m\"Feature importances\"\u001b[0m\u001b[0;34m)\u001b[0m\u001b[0;34m\u001b[0m\u001b[0m\n\u001b[1;32m     17\u001b[0m plt.bar(range(X.shape[1]), importances[indices],\n",
      "\u001b[0;31mNameError\u001b[0m: name 'plt' is not defined"
     ]
    }
   ],
   "source": [
    "#Examine feature importance\n",
    "importances = rf.feature_importances_\n",
    "std = np.std([tree.feature_importances_ for tree in rf.estimators_], axis=0)\n",
    "indices = np.argsort(importances)[::-1]\n",
    "\n",
    "# Print the feature ranking\n",
    "print(\"Feature ranking:\")\n",
    "for f in range(X.shape[1]):\n",
    "    print(\"{}. Feature {}, which is {} ({})\".format(f + 1, \n",
    "                                       indices[f], \n",
    "                                       features_considered[indices[f]],\n",
    "                                       importances[indices[f]]))\n",
    "    \n",
    "# Plot the feature importances of the forest\n",
    "plt.figure()\n",
    "plt.title(\"Feature importances\")\n",
    "plt.bar(range(X.shape[1]), importances[indices],\n",
    "       color=\"r\", yerr=std[indices], align=\"center\")\n",
    "plt.xticks(range(X.shape[1]), indices)\n",
    "plt.xlim([-1, X.shape[1]])\n",
    "plt.show()"
   ]
  },
  {
   "cell_type": "code",
   "execution_count": 23,
   "metadata": {
    "collapsed": false
   },
   "outputs": [],
   "source": [
    "# write out feature importance\n",
    "out_file = \"/Users/natashal/Projects/fusion_ML/modelling/rf_feature_importance_parents_imputed_no_balancing.csv\"\n",
    "\n",
    "with open(out_file, 'wb') as outf:\n",
    "    writer = csv.writer(outf)\n",
    "    for f in range(X.shape[1]):\n",
    "        row = indices[f], features_considered[indices[f]], importances[indices[f]]\n",
    "        writer.writerow(row)"
   ]
  },
  {
   "cell_type": "markdown",
   "metadata": {},
   "source": [
    "## Using single features for predicting outcome"
   ]
  },
  {
   "cell_type": "code",
   "execution_count": 35,
   "metadata": {
    "collapsed": false
   },
   "outputs": [
    {
     "name": "stdout",
     "output_type": "stream",
     "text": [
      "The best performing n_estimators value is: 10\n",
      "The best performing max_features value is: log2\n",
      "             precision    recall  f1-score   support\n",
      "\n",
      "          0       0.83      0.94      0.88      3704\n",
      "          1       0.90      0.74      0.81      2737\n",
      "\n",
      "avg / total       0.86      0.85      0.85      6441\n",
      "\n",
      "('Overall Accuracy:', 0.85)\n",
      "[[3466  238]\n",
      " [ 702 2035]]\n"
     ]
    }
   ],
   "source": [
    "# drop the labels\n",
    "dataset = pd.read_csv(filepath, sep=\",\")\n",
    "features = dataset.drop(['is_parent'], axis=1)\n",
    "\n",
    "#features = dataset[['UB_density', 'ub_count']]\n",
    "#features = dataset[['eigenvector_centralities']]\n",
    "features = dataset[['UB_density', 'ub_count', 'ptm_count', 'num_lms', 'LM_density']]\n",
    "\n",
    "# Convert dataframe to numpy array and split\n",
    "# data into input matrix X and class label vector y\n",
    "npArray = np.array(features)\n",
    "X = npArray[:,:].astype(float)\n",
    "    \n",
    "#X = preprocessing.scale(X)\n",
    "#features_considered = np.asarray(features.columns[:])\n",
    "\n",
    "y = dataset['is_parent'].astype(int)\n",
    "\n",
    "# train test split\n",
    "XTrain, XTest, yTrain, yTest = train_test_split(X, y, random_state=1, test_size=0.30)\n",
    "\n",
    "# Grid search using cross-validation\n",
    "gridCV = GridSearchCV(RandomForestClassifier(), param_grid=hyperparameters, cv=10, n_jobs=4)\n",
    "gridCV.fit(XTrain, yTrain)\n",
    " \n",
    "# Identify optimal hyperparameter values\n",
    "best_n_estim      = gridCV.best_params_['n_estimators']\n",
    "best_max_features = gridCV.best_params_['max_features']  \n",
    " \n",
    "print(\"The best performing n_estimators value is: {}\".format(best_n_estim))\n",
    "print(\"The best performing max_features value is: {}\".format(best_max_features))\n",
    "\n",
    "# Train classifier using optimal hyperparameter values\n",
    "# You could have also gotten this model out from gridCV.best_estimator_\n",
    "rf = RandomForestClassifier(n_estimators=best_n_estim,\n",
    "                            max_features=best_max_features)\n",
    " \n",
    "rf.fit(XTrain, yTrain)\n",
    "rf_predictions = rf.predict(XTest)\n",
    " \n",
    "print (metrics.classification_report(yTest, rf_predictions))\n",
    "print (\"Overall Accuracy:\", round(metrics.accuracy_score(yTest, rf_predictions),2))\n",
    "print (metrics.confusion_matrix(yTest, rf_predictions, labels=None))"
   ]
  },
  {
   "cell_type": "code",
   "execution_count": 31,
   "metadata": {
    "collapsed": false
   },
   "outputs": [
    {
     "data": {
      "text/plain": [
       "DecisionTreeClassifier(class_weight=None, criterion='gini', max_depth=None,\n",
       "            max_features='log2', max_leaf_nodes=None, min_samples_leaf=1,\n",
       "            min_samples_split=2, min_weight_fraction_leaf=0.0,\n",
       "            random_state=53597059, splitter='best')"
      ]
     },
     "execution_count": 31,
     "metadata": {},
     "output_type": "execute_result"
    }
   ],
   "source": [
    "rf.feature_importances_"
   ]
  },
  {
   "cell_type": "markdown",
   "metadata": {},
   "source": [
    "## Plot trees"
   ]
  },
  {
   "cell_type": "code",
   "execution_count": 81,
   "metadata": {
    "collapsed": false
   },
   "outputs": [
    {
     "data": {
      "text/plain": [
       "True"
      ]
     },
     "execution_count": 81,
     "metadata": {},
     "output_type": "execute_result"
    }
   ],
   "source": [
    "from sklearn import tree\n",
    "import graphviz \n",
    "from sklearn.externals.six import StringIO\n",
    "import pydot \n",
    "\n",
    "rf = RandomForestClassifier(max_depth=3)\n",
    "rf.fit(XTrain, yTrain)\n",
    "\n",
    "dot_data = StringIO() \n",
    "tree.export_graphviz(rf.estimators_[5], out_file=dot_data, feature_names=dataset.columns) \n",
    "\n",
    "graph = pydot.graph_from_dot_data(dot_data.getvalue()) \n",
    "graph.write_pdf(\"/Users/natashal/Projects/fusion_ML/figures/tree5.pdf\") \n"
   ]
  },
  {
   "cell_type": "code",
   "execution_count": null,
   "metadata": {
    "collapsed": true
   },
   "outputs": [],
   "source": [
    "# predict"
   ]
  },
  {
   "cell_type": "markdown",
   "metadata": {
    "collapsed": true
   },
   "source": [
    "# 2) Recurrence versus singular events prediction"
   ]
  },
  {
   "cell_type": "code",
   "execution_count": 24,
   "metadata": {
    "collapsed": false
   },
   "outputs": [],
   "source": [
    "# Import the base dataset\n",
    "filepath = \"/Users/natashal/Projects/fusion_ML/features/feature_spaces/downsampled_majority_recurrent_non_recurrent_feature_set.csv\"\n",
    "dataset = pd.read_csv(filepath, sep=\",\")\n",
    "\n",
    "features = dataset.drop(['ensg', 'is_parent', 'is_recurrent_parent', 'num_fusions', 'is_5_prime_parent', 'is_3_prime_parent'], axis=1)\n",
    "\n",
    "# convert, process\n",
    "npArray = np.array(features)\n",
    "X = npArray[:,:].astype(float)\n",
    "features_considered = np.asarray(features.columns[:])\n",
    "y = dataset['is_recurrent_parent'].astype(int)\n",
    "\n",
    "# Split into training and test sets\n",
    "XTrain, XTest, yTrain, yTest = train_test_split(X, y, random_state=1, test_size=0.30)"
   ]
  },
  {
   "cell_type": "code",
   "execution_count": 25,
   "metadata": {
    "collapsed": false
   },
   "outputs": [
    {
     "data": {
      "text/plain": [
       "GridSearchCV(cv=10, error_score='raise',\n",
       "       estimator=RandomForestClassifier(bootstrap=True, class_weight=None, criterion='gini',\n",
       "            max_depth=None, max_features='auto', max_leaf_nodes=None,\n",
       "            min_samples_leaf=1, min_samples_split=2,\n",
       "            min_weight_fraction_leaf=0.0, n_estimators=10, n_jobs=1,\n",
       "            oob_score=False, random_state=None, verbose=0,\n",
       "            warm_start=False),\n",
       "       fit_params={}, iid=True, n_jobs=4,\n",
       "       param_grid={'max_features': [None, 'sqrt', 'log2'], 'criterion': ['gini', 'entropy'], 'max_depth': [None, 40, 50, 60]},\n",
       "       pre_dispatch='2*n_jobs', refit=True, scoring=None, verbose=0)"
      ]
     },
     "execution_count": 25,
     "metadata": {},
     "output_type": "execute_result"
    }
   ],
   "source": [
    "# Search for good hyperparameter values\n",
    "# Specify values to grid search over\n",
    "# Search for good hyperparameter values\n",
    "criterion = ['gini', 'entropy']\n",
    "max_features = [None, 'sqrt', 'log2'] \n",
    "max_depth = [None, 40, 50, 60]\n",
    " \n",
    "hyperparameters = {\n",
    "    'criterion': criterion, \n",
    "    'max_features': max_features,\n",
    "    'max_depth' : max_depth\n",
    "}\n",
    " \n",
    "# Grid search using cross-validation with 10 fold CV\n",
    "gridCV = GridSearchCV(RandomForestClassifier(), param_grid=hyperparameters, cv=10, n_jobs=4)\n",
    "gridCV.fit(XTrain, yTrain)"
   ]
  },
  {
   "cell_type": "code",
   "execution_count": 26,
   "metadata": {
    "collapsed": false
   },
   "outputs": [
    {
     "name": "stdout",
     "output_type": "stream",
     "text": [
      "The best performing criterion is: entropy\n",
      "The best performing max_features value is: log2\n",
      "The best performing max_depth value is: 50\n"
     ]
    }
   ],
   "source": [
    "# Identify optimal hyperparameter values\n",
    "best_criterion      = gridCV.best_params_['criterion']\n",
    "best_max_features = gridCV.best_params_['max_features']  \n",
    "best_max_depth = gridCV.best_params_['max_depth']  \n",
    "\n",
    "print(\"The best performing criterion is: {}\".format(best_criterion))\n",
    "print(\"The best performing max_features value is: {}\".format(best_max_features))\n",
    "print(\"The best performing max_depth value is: {}\".format(best_max_depth))"
   ]
  },
  {
   "cell_type": "code",
   "execution_count": 33,
   "metadata": {
    "collapsed": false
   },
   "outputs": [
    {
     "name": "stdout",
     "output_type": "stream",
     "text": [
      "             precision    recall  f1-score   support\n",
      "\n",
      "          0       0.54      0.66      0.60       276\n",
      "          1       0.59      0.46      0.52       285\n",
      "\n",
      "avg / total       0.57      0.56      0.56       561\n",
      "\n",
      "('Overall Accuracy:', 0.561)\n",
      "[[183  93]\n",
      " [153 132]]\n"
     ]
    }
   ],
   "source": [
    "# Train classifier using optimal hyperparameter values\n",
    "# You could have also gotten this model out from gridCV.best_estimator_\n",
    "rf = RandomForestClassifier(n_estimators=30,\n",
    "                            max_features=best_max_features,\n",
    "                           criterion=best_criterion,\n",
    "                           max_depth=best_max_depth)\n",
    " \n",
    "rf.fit(XTrain, yTrain)\n",
    "rf_predictions = rf.predict(XTest)\n",
    " \n",
    "print (metrics.classification_report(yTest, rf_predictions))\n",
    "print (\"Overall Accuracy:\", round(metrics.accuracy_score(yTest, rf_predictions),3))\n",
    "print (metrics.confusion_matrix(yTest, rf_predictions, labels=None))"
   ]
  },
  {
   "cell_type": "code",
   "execution_count": 29,
   "metadata": {
    "collapsed": false
   },
   "outputs": [
    {
     "name": "stdout",
     "output_type": "stream",
     "text": [
      "Feature ranking:\n",
      "1. Feature 76, which is max_expression (0.0400896106311)\n",
      "2. Feature 75, which is mean_expression (0.0380069088142)\n",
      "3. Feature 52, which is avg_disorder (0.0373127797968)\n",
      "4. Feature 74, which is tau (0.0364262340502)\n",
      "5. Feature 73, which is eigenvector_centrality (0.0361903793823)\n",
      "6. Feature 48, which is avg_ensp_length (0.0354436534645)\n",
      "7. Feature 72, which is closeness_centrality (0.035194590787)\n",
      "8. Feature 49, which is avg_num_exons (0.0341824476315)\n",
      "9. Feature 51, which is avg_domain_length (0.0340346400546)\n",
      "10. Feature 82, which is density_PTMs (0.0339619430832)\n",
      "11. Feature 13, which is num_GOSlim_terms (0.0323363504372)\n",
      "12. Feature 58, which is num_ANCHOR_LMs (0.0306517110255)\n",
      "13. Feature 77, which is density_domains (0.0304579405472)\n",
      "14. Feature 59, which is num_PTMs (0.0300996036669)\n",
      "15. Feature 71, which is betweenness_centrality (0.0287509563483)\n",
      "16. Feature 47, which is num_isoforms (0.0276851386669)\n",
      "17. Feature 70, which is degree_centrality (0.0269332111598)\n",
      "18. Feature 85, which is density_phospho_sites (0.0261525902206)\n",
      "19. Feature 84, which is density_UB_sites (0.0260159994275)\n",
      "20. Feature 81, which is density_ANCHOR_LMs (0.0258583172422)\n",
      "21. Feature 12, which is num_GO_terms (0.0249771601022)\n",
      "22. Feature 69, which is num_TSG_interactions (0.0227842940242)\n",
      "23. Feature 50, which is avg_num_domains (0.0220993960574)\n",
      "24. Feature 61, which is num_phospho_sites (0.0213463052473)\n",
      "25. Feature 53, which is longest_interacting_segment (0.021204555913)\n",
      "26. Feature 65, which is num_cancer_interactions (0.020155534138)\n",
      "27. Feature 60, which is num_UB_sites (0.0170058350408)\n",
      "28. Feature 62, which is num_PTMcode_sites (0.0166915642836)\n",
      "29. Feature 83, which is density_PTMcode_sites (0.0150433363824)\n",
      "30. Feature 78, which is density_INstruct_domains (0.0117668159476)\n",
      "31. Feature 67, which is num_OG_interactions (0.0111315750837)\n",
      "32. Feature 79, which is density_PISA_res (0.0110337880445)\n",
      "33. Feature 54, which is num_interacting_segments (0.0103030123194)\n",
      "34. Feature 56, which is num_PISA_res (0.00773203188256)\n",
      "35. Feature 40, which is loc_endomembrane_system (0.006026609194)\n",
      "36. Feature 46, which is loc_vesicle (0.00595925268062)\n",
      "37. Feature 45, which is loc_plasma_membrane (0.00594950502766)\n",
      "38. Feature 38, which is loc_cytoplasm (0.00583655413813)\n",
      "39. Feature 55, which is num_INstruct_domains (0.00581449504131)\n",
      "40. Feature 43, which is loc_nucleus (0.00560975999999)\n",
      "41. Feature 68, which is interacts_with_TSG (0.0052581486116)\n",
      "42. Feature 41, which is loc_extracellular_region (0.00512174097909)\n",
      "43. Feature 80, which is density_ELM_LMs (0.00492325318996)\n",
      "44. Feature 44, which is loc_organelle_lumen (0.00465443257401)\n",
      "45. Feature 30, which is num_TF_interactions (0.00439828793062)\n",
      "46. Feature 14, which is is_essential (0.00412558759186)\n",
      "47. Feature 39, which is loc_cytoskeleton (0.0040943778228)\n",
      "48. Feature 66, which is interacts_with_OG (0.00403041758273)\n",
      "49. Feature 2, which is num_cancers_downreg_TSG (0.00391596705626)\n",
      "50. Feature 42, which is loc_nucleolus (0.00389863491467)\n",
      "51. Feature 57, which is num_ELM_LMs (0.00343468093456)\n",
      "52. Feature 37, which is loc_cell_junction (0.00305865881614)\n",
      "53. Feature 1, which is is_TSG (0.00266890634054)\n",
      "54. Feature 64, which is interacts_with_cancer (0.00256349712625)\n",
      "55. Feature 32, which is num_TF_repression (0.00238110127606)\n",
      "56. Feature 3, which is is_cancer (0.00236679614292)\n",
      "57. Feature 29, which is is_TF (0.00226492049543)\n",
      "58. Feature 5, which is somatic_cancer_mutation (0.00225116734446)\n",
      "59. Feature 15, which is is_happloinsufficient (0.00194469723009)\n",
      "60. Feature 11, which is count_tissues_cancer_mutation (0.00188515282361)\n",
      "61. Feature 17, which is is_kinase (0.00157380248331)\n",
      "62. Feature 16, which is loss_phenotype (0.00146220114361)\n",
      "63. Feature 31, which is num_TF_activation (0.0014410178461)\n",
      "64. Feature 4, which is is_cancer_stringent (0.00134005113736)\n",
      "65. Feature 36, which is is_epigenetic_complex (0.00133864925063)\n",
      "66. Feature 63, which is is_KEGG_cancer_pathway (0.00126928921966)\n",
      "67. Feature 35, which is is_other_epigenetic (0.00119303701257)\n",
      "68. Feature 7, which is epithelial_cancer_mutation (0.00100446464025)\n",
      "69. Feature 8, which is leuk_lymph_cancer_mutation (0.000883726543137)\n",
      "70. Feature 0, which is is_oncogene (0.000851945307174)\n",
      "71. Feature 34, which is is_histone_modification (0.000599767032739)\n",
      "72. Feature 33, which is is_chromatin_remodelling (0.000598959224889)\n",
      "73. Feature 6, which is germline_cancer_mutation (0.000574494404947)\n",
      "74. Feature 18, which is kinase_AGC (0.000492851430697)\n",
      "75. Feature 20, which is kinase_CAMK (0.000419906720095)\n",
      "76. Feature 22, which is kinase_CMGC (0.000371476839579)\n",
      "77. Feature 9, which is mesenchymal_cancer_mutation (0.000279888945007)\n",
      "78. Feature 26, which is kinase_STE (0.000202943213818)\n",
      "79. Feature 21, which is kinase_CK1 (0.000185108804301)\n",
      "80. Feature 10, which is other_tissue_cancer_mutation (0.00018251758152)\n",
      "81. Feature 24, which is kinase_Other (0.000133012465155)\n",
      "82. Feature 27, which is kinase_TKL (9.05103924249e-05)\n",
      "83. Feature 19, which is kinase_Atypical (1.35645916576e-05)\n",
      "84. Feature 23, which is kinase_NEK (0.0)\n",
      "85. Feature 25, which is kinase_RGC (0.0)\n",
      "86. Feature 28, which is kinase_Tyr (0.0)\n"
     ]
    },
    {
     "ename": "NameError",
     "evalue": "name 'plt' is not defined",
     "output_type": "error",
     "traceback": [
      "\u001b[0;31m---------------------------------------------------------------------------\u001b[0m",
      "\u001b[0;31mNameError\u001b[0m                                 Traceback (most recent call last)",
      "\u001b[0;32m<ipython-input-29-45a9561d218a>\u001b[0m in \u001b[0;36m<module>\u001b[0;34m()\u001b[0m\n\u001b[1;32m     13\u001b[0m \u001b[0;34m\u001b[0m\u001b[0m\n\u001b[1;32m     14\u001b[0m \u001b[0;31m# Plot the feature importances of the forest\u001b[0m\u001b[0;34m\u001b[0m\u001b[0;34m\u001b[0m\u001b[0m\n\u001b[0;32m---> 15\u001b[0;31m \u001b[0mplt\u001b[0m\u001b[0;34m.\u001b[0m\u001b[0mfigure\u001b[0m\u001b[0;34m(\u001b[0m\u001b[0;34m)\u001b[0m\u001b[0;34m\u001b[0m\u001b[0m\n\u001b[0m\u001b[1;32m     16\u001b[0m \u001b[0mplt\u001b[0m\u001b[0;34m.\u001b[0m\u001b[0mtitle\u001b[0m\u001b[0;34m(\u001b[0m\u001b[0;34m\"Feature importances\"\u001b[0m\u001b[0;34m)\u001b[0m\u001b[0;34m\u001b[0m\u001b[0m\n\u001b[1;32m     17\u001b[0m plt.bar(range(X.shape[1]), importances[indices],\n",
      "\u001b[0;31mNameError\u001b[0m: name 'plt' is not defined"
     ]
    }
   ],
   "source": [
    "# Examine feature importance\n",
    "importances = rf.feature_importances_\n",
    "std = np.std([tree.feature_importances_ for tree in rf.estimators_], axis=0)\n",
    "indices = np.argsort(importances)[::-1]\n",
    "\n",
    "# Print the feature ranking\n",
    "print(\"Feature ranking:\")\n",
    "for f in range(X.shape[1]):\n",
    "    print(\"{}. Feature {}, which is {} ({})\".format(f + 1, \n",
    "                                       indices[f], \n",
    "                                       features_considered[indices[f]],\n",
    "                                       importances[indices[f]]))\n",
    "    \n",
    "# Plot the feature importances of the forest\n",
    "plt.figure()\n",
    "plt.title(\"Feature importances\")\n",
    "plt.bar(range(X.shape[1]), importances[indices],\n",
    "       color=\"r\", yerr=std[indices], align=\"center\")\n",
    "plt.xticks(range(X.shape[1]), indices)\n",
    "plt.xlim([-1, X.shape[1]])\n",
    "plt.show()"
   ]
  },
  {
   "cell_type": "code",
   "execution_count": 30,
   "metadata": {
    "collapsed": true
   },
   "outputs": [],
   "source": [
    "# write out feature importance\n",
    "import csv\n",
    "\n",
    "out_file = \"/Users/natashal/Projects/fusion_ML/modelling/rf_feature_importance_recurrence_imputed_not_balanced.csv\"\n",
    "\n",
    "with open(out_file, 'wb') as outf:\n",
    "    writer = csv.writer(outf)\n",
    "    for f in range(X.shape[1]):\n",
    "        row = indices[f], features_considered[indices[f]], importances[indices[f]]\n",
    "        writer.writerow(row)"
   ]
  },
  {
   "cell_type": "markdown",
   "metadata": {},
   "source": [
    "# 3) Fusion events: Metastatic versus primary fusions"
   ]
  },
  {
   "cell_type": "code",
   "execution_count": 66,
   "metadata": {
    "collapsed": false
   },
   "outputs": [],
   "source": [
    "# Import the base dataset\n",
    "filepath = \"/Users/natashal/Projects/fusion_ML/features/feature_spaces/fusion_events_downsampled_majority_for_metastasis.csv\"\n",
    "dataset = pd.read_csv(filepath, sep=\",\")\n",
    "features = dataset.drop(['ensg_3', 'ensg_5', 'fusion_id', 'cancer_type', 'is_metastatic'], axis=1)\n",
    "\n",
    "# Convert dataframe to numpy array and split\n",
    "# data into input matrix X and class label vector y\n",
    "npArray = np.array(features)\n",
    "X = npArray[:,:].astype(float)\n",
    "    \n",
    "#X = preprocessing.scale(X)\n",
    "features_considered = np.asarray(features.columns[:])\n",
    "y = dataset['is_metastatic'].astype(int)\n",
    "\n",
    "# Split into training and test sets\n",
    "XTrain, XTest, yTrain, yTest = train_test_split(X, y, random_state=1, test_size=0.30)"
   ]
  },
  {
   "cell_type": "code",
   "execution_count": 67,
   "metadata": {
    "collapsed": false
   },
   "outputs": [
    {
     "data": {
      "text/plain": [
       "GridSearchCV(cv=10, error_score='raise',\n",
       "       estimator=RandomForestClassifier(bootstrap=True, class_weight=None, criterion='gini',\n",
       "            max_depth=None, max_features='auto', max_leaf_nodes=None,\n",
       "            min_samples_leaf=1, min_samples_split=2,\n",
       "            min_weight_fraction_leaf=0.0, n_estimators=10, n_jobs=1,\n",
       "            oob_score=False, random_state=None, verbose=0,\n",
       "            warm_start=False),\n",
       "       fit_params={}, iid=True, n_jobs=4,\n",
       "       param_grid={'max_features': [None, 'sqrt', 'log2'], 'criterion': ['gini', 'entropy'], 'max_depth': [None, 40, 50, 60]},\n",
       "       pre_dispatch='2*n_jobs', refit=True, scoring=None, verbose=0)"
      ]
     },
     "execution_count": 67,
     "metadata": {},
     "output_type": "execute_result"
    }
   ],
   "source": [
    "# Search for good hyperparameter values\n",
    "# Specify values to grid search over\n",
    "# Search for good hyperparameter values\n",
    "criterion = ['gini', 'entropy']\n",
    "max_features = [None, 'sqrt', 'log2'] \n",
    "max_depth = [None, 40, 50, 60]\n",
    " \n",
    "hyperparameters = {\n",
    "    'criterion': criterion, \n",
    "    'max_features': max_features,\n",
    "    'max_depth' : max_depth\n",
    "}\n",
    " \n",
    "# Grid search using cross-validation with 10 fold CV\n",
    "gridCV = GridSearchCV(RandomForestClassifier(), param_grid=hyperparameters, cv=10, n_jobs=4)\n",
    "gridCV.fit(XTrain, yTrain)"
   ]
  },
  {
   "cell_type": "code",
   "execution_count": 68,
   "metadata": {
    "collapsed": false
   },
   "outputs": [
    {
     "name": "stdout",
     "output_type": "stream",
     "text": [
      "The best performing criterion is: entropy\n",
      "The best performing max_features value is: log2\n",
      "The best performing max_depth value is: 50\n"
     ]
    }
   ],
   "source": [
    "# Identify optimal hyperparameter values\n",
    "best_criterion      = gridCV.best_params_['criterion']\n",
    "best_max_features = gridCV.best_params_['max_features']  \n",
    "best_max_depth = gridCV.best_params_['max_depth']  \n",
    "\n",
    "print(\"The best performing criterion is: {}\".format(best_criterion))\n",
    "print(\"The best performing max_features value is: {}\".format(best_max_features))\n",
    "print(\"The best performing max_depth value is: {}\".format(best_max_depth))"
   ]
  },
  {
   "cell_type": "code",
   "execution_count": 88,
   "metadata": {
    "collapsed": false
   },
   "outputs": [
    {
     "name": "stdout",
     "output_type": "stream",
     "text": [
      "             precision    recall  f1-score   support\n",
      "\n",
      "          0       0.59      0.60      0.59        68\n",
      "          1       0.56      0.55      0.56        64\n",
      "\n",
      "avg / total       0.58      0.58      0.58       132\n",
      "\n",
      "('Overall Accuracy:', 0.576)\n",
      "[[41 27]\n",
      " [29 35]]\n"
     ]
    }
   ],
   "source": [
    "# Train classifier using optimal hyperparameter values\n",
    "# You could have also gotten this model out from gridCV.best_estimator_\n",
    "rf = RandomForestClassifier(n_estimators=30,\n",
    "                            max_features=best_max_features,\n",
    "                           criterion=best_criterion,\n",
    "                           max_depth=best_max_depth)\n",
    " \n",
    "rf.fit(XTrain, yTrain)\n",
    "rf_predictions = rf.predict(XTest)\n",
    " \n",
    "print (metrics.classification_report(yTest, rf_predictions))\n",
    "print (\"Overall Accuracy:\", round(metrics.accuracy_score(yTest, rf_predictions),3))\n",
    "print (metrics.confusion_matrix(yTest, rf_predictions, labels=None))"
   ]
  },
  {
   "cell_type": "code",
   "execution_count": 89,
   "metadata": {
    "collapsed": false
   },
   "outputs": [
    {
     "name": "stdout",
     "output_type": "stream",
     "text": [
      "Feature ranking:\n",
      "1. Feature 51, which is avg_domain_length_5_prime (0.0224904744338)\n",
      "2. Feature 162, which is max_expression_3_prime (0.0206882429616)\n",
      "3. Feature 137, which is avg_domain_length_3_prime (0.0206572308366)\n",
      "4. Feature 159, which is eigenvector_centrality_3_prime (0.0205714743467)\n",
      "5. Feature 82, which is density_PTMs_5_prime (0.0193023054945)\n",
      "6. Feature 135, which is avg_num_exons_3_prime (0.0187379903038)\n",
      "7. Feature 52, which is avg_disorder_5_prime (0.0187322651442)\n",
      "8. Feature 144, which is num_ANCHOR_LMs_3_prime (0.0185888513865)\n",
      "9. Feature 48, which is avg_ensp_length_5_prime (0.0180594713733)\n",
      "10. Feature 76, which is max_expression_5_prime (0.0180108480876)\n",
      "11. Feature 50, which is avg_num_domains_5_prime (0.0172500233611)\n",
      "12. Feature 75, which is mean_expression_5_prime (0.0170459873066)\n",
      "13. Feature 49, which is avg_num_exons_5_prime (0.0161981406743)\n",
      "14. Feature 138, which is avg_disorder_3_prime (0.0160326030281)\n",
      "15. Feature 99, which is num_GOSlim_terms_3_prime (0.0159675651298)\n",
      "16. Feature 70, which is degree_centrality_5_prime (0.0158290462537)\n",
      "17. Feature 136, which is avg_num_domains_3_prime (0.0158159463154)\n",
      "18. Feature 168, which is density_PTMs_3_prime (0.015664100628)\n",
      "19. Feature 156, which is degree_centrality_3_prime (0.0156207063216)\n",
      "20. Feature 167, which is density_ANCHOR_LMs_3_prime (0.0154624987996)\n",
      "21. Feature 58, which is num_ANCHOR_LMs_5_prime (0.0154272421159)\n",
      "22. Feature 145, which is num_PTMs_3_prime (0.015165746894)\n",
      "23. Feature 72, which is closeness_centrality_5_prime (0.0150010214647)\n",
      "24. Feature 85, which is density_phospho_sites_5_prime (0.0147936071536)\n",
      "25. Feature 59, which is num_PTMs_5_prime (0.0145739227349)\n",
      "26. Feature 151, which is num_cancer_interactions_3_prime (0.0143446248237)\n",
      "27. Feature 171, which is density_phospho_sites_3_prime (0.0143444028724)\n",
      "28. Feature 13, which is num_GOSlim_terms_5_prime (0.0141694338044)\n",
      "29. Feature 158, which is closeness_centrality_3_prime (0.0138611570513)\n",
      "30. Feature 133, which is num_isoforms_3_prime (0.0132591713639)\n",
      "31. Feature 84, which is density_UB_sites_5_prime (0.0129167318954)\n",
      "32. Feature 12, which is num_GO_terms_5_prime (0.0129017164726)\n",
      "33. Feature 157, which is betweenness_centrality_3_prime (0.0125319177471)\n",
      "34. Feature 73, which is eigenvector_centrality_5_prime (0.0124677899619)\n",
      "35. Feature 69, which is num_TSG_interactions_5_prime (0.0124474018432)\n",
      "36. Feature 81, which is density_ANCHOR_LMs_5_prime (0.0123365131729)\n",
      "37. Feature 74, which is tau_5_prime (0.0121009929461)\n",
      "38. Feature 98, which is num_GO_terms_3_prime (0.0116618110967)\n",
      "39. Feature 83, which is density_PTMcode_sites_5_prime (0.0116310668103)\n",
      "40. Feature 146, which is num_UB_sites_3_prime (0.0114954072001)\n",
      "41. Feature 77, which is density_domains_5_prime (0.0113944483412)\n",
      "42. Feature 62, which is num_PTMcode_sites_5_prime (0.0111907237409)\n",
      "43. Feature 71, which is betweenness_centrality_5_prime (0.0110924040391)\n",
      "44. Feature 160, which is tau_3_prime (0.0110190775615)\n",
      "45. Feature 47, which is num_isoforms_5_prime (0.0109107869322)\n",
      "46. Feature 163, which is density_domains_3_prime (0.0108758525257)\n",
      "47. Feature 65, which is num_cancer_interactions_5_prime (0.0106721213793)\n",
      "48. Feature 170, which is density_UB_sites_3_prime (0.0103830342768)\n",
      "49. Feature 2, which is num_cancers_downreg_TSG_5_prime (0.0103201440756)\n",
      "50. Feature 147, which is num_phospho_sites_3_prime (0.0100587473858)\n",
      "51. Feature 161, which is mean_expression_3_prime (0.00950058119048)\n",
      "52. Feature 61, which is num_phospho_sites_5_prime (0.00881439155401)\n",
      "53. Feature 53, which is longest_interacting_segment_5_prime (0.00871052815773)\n",
      "54. Feature 30, which is num_TF_interactions_5_prime (0.00815577505946)\n",
      "55. Feature 60, which is num_UB_sites_5_prime (0.00805161634065)\n",
      "56. Feature 140, which is num_interacting_segments_3_prime (0.00757626987805)\n",
      "57. Feature 29, which is is_TF_5_prime (0.00728040358721)\n",
      "58. Feature 139, which is longest_interacting_segment_3_prime (0.00723224308664)\n",
      "59. Feature 78, which is density_INstruct_domains_5_prime (0.0072077799693)\n",
      "60. Feature 67, which is num_OG_interactions_5_prime (0.00703389357673)\n",
      "61. Feature 153, which is num_OG_interactions_3_prime (0.00698341534022)\n",
      "62. Feature 148, which is num_PTMcode_sites_3_prime (0.00695495732951)\n",
      "63. Feature 134, which is avg_ensp_length_3_prime (0.00636308058529)\n",
      "64. Feature 55, which is num_INstruct_domains_5_prime (0.00635728157721)\n",
      "65. Feature 155, which is num_TSG_interactions_3_prime (0.00592811486138)\n",
      "66. Feature 142, which is num_PISA_res_3_prime (0.00542045431241)\n",
      "67. Feature 166, which is density_ELM_LMs_3_prime (0.00529429860865)\n",
      "68. Feature 165, which is density_PISA_res_3_prime (0.00521140215233)\n",
      "69. Feature 37, which is loc_cell_junction_5_prime (0.0048536683064)\n",
      "70. Feature 141, which is num_INstruct_domains_3_prime (0.00453658536895)\n",
      "71. Feature 150, which is interacts_with_cancer_3_prime (0.00437613882609)\n",
      "72. Feature 125, which is loc_cytoskeleton_3_prime (0.00437238242673)\n",
      "73. Feature 132, which is loc_vesicle_3_prime (0.00418620560321)\n",
      "74. Feature 31, which is num_TF_activation_5_prime (0.00406287227808)\n",
      "75. Feature 40, which is loc_endomembrane_system_5_prime (0.00395786474633)\n",
      "76. Feature 169, which is density_PTMcode_sites_3_prime (0.00391516727604)\n",
      "77. Feature 127, which is loc_extracellular_region_3_prime (0.00378134394888)\n",
      "78. Feature 79, which is density_PISA_res_5_prime (0.00375586295423)\n",
      "79. Feature 131, which is loc_plasma_membrane_3_prime (0.00348557797722)\n",
      "80. Feature 129, which is loc_nucleus_3_prime (0.00317845424178)\n",
      "81. Feature 130, which is loc_organelle_lumen_3_prime (0.00317496853451)\n",
      "82. Feature 38, which is loc_cytoplasm_5_prime (0.00317013682928)\n",
      "83. Feature 89, which is is_cancer_3_prime (0.00310029300762)\n",
      "84. Feature 128, which is loc_nucleolus_3_prime (0.00286796318437)\n",
      "85. Feature 56, which is num_PISA_res_5_prime (0.00280313231251)\n",
      "86. Feature 57, which is num_ELM_LMs_5_prime (0.00279000064773)\n",
      "87. Feature 123, which is loc_cell_junction_3_prime (0.00260063125043)\n",
      "88. Feature 143, which is num_ELM_LMs_3_prime (0.00259198681198)\n",
      "89. Feature 103, which is is_kinase_3_prime (0.00248091657703)\n",
      "90. Feature 41, which is loc_extracellular_region_5_prime (0.00245639535417)\n",
      "91. Feature 54, which is num_interacting_segments_5_prime (0.00245549858546)\n",
      "92. Feature 32, which is num_TF_repression_5_prime (0.00242285566991)\n",
      "93. Feature 124, which is loc_cytoplasm_3_prime (0.00239031477348)\n",
      "94. Feature 66, which is interacts_with_OG_5_prime (0.00236003271067)\n",
      "95. Feature 164, which is density_INstruct_domains_3_prime (0.00223713227433)\n",
      "96. Feature 126, which is loc_endomembrane_system_3_prime (0.00211510605876)\n",
      "97. Feature 91, which is somatic_cancer_mutation_3_prime (0.00210843125748)\n",
      "98. Feature 43, which is loc_nucleus_5_prime (0.00203667841553)\n",
      "99. Feature 80, which is density_ELM_LMs_5_prime (0.00200779714462)\n",
      "100. Feature 46, which is loc_vesicle_5_prime (0.00200657434952)\n",
      "101. Feature 3, which is is_cancer_5_prime (0.0018260528101)\n",
      "102. Feature 34, which is is_histone_modification_5_prime (0.00175901521957)\n",
      "103. Feature 152, which is interacts_with_OG_3_prime (0.00173149751771)\n",
      "104. Feature 15, which is is_happloinsufficient_5_prime (0.00171676572731)\n",
      "105. Feature 68, which is interacts_with_TSG_5_prime (0.00157456359539)\n",
      "106. Feature 97, which is count_tissues_cancer_mutation_3_prime (0.00155134456485)\n",
      "107. Feature 14, which is is_essential_5_prime (0.00151756438606)\n",
      "108. Feature 8, which is leuk_lymph_cancer_mutation_5_prime (0.00150236722176)\n",
      "109. Feature 154, which is interacts_with_TSG_3_prime (0.00146025804362)\n",
      "110. Feature 119, which is is_chromatin_remodelling_3_prime (0.00139389042378)\n",
      "111. Feature 44, which is loc_organelle_lumen_5_prime (0.00136672792433)\n",
      "112. Feature 36, which is is_epigenetic_complex_5_prime (0.00128810371974)\n",
      "113. Feature 1, which is is_TSG_5_prime (0.00125178285451)\n",
      "114. Feature 39, which is loc_cytoskeleton_5_prime (0.00123251233267)\n",
      "115. Feature 16, which is loss_phenotype_5_prime (0.00122047127301)\n",
      "116. Feature 64, which is interacts_with_cancer_5_prime (0.00119225222995)\n",
      "117. Feature 10, which is other_tissue_cancer_mutation_5_prime (0.00115692152622)\n",
      "118. Feature 86, which is is_oncogene_3_prime (0.00112806035199)\n",
      "119. Feature 17, which is is_kinase_5_prime (0.00112760749231)\n",
      "120. Feature 101, which is is_happloinsufficient_3_prime (0.000988039397586)\n",
      "121. Feature 94, which is leuk_lymph_cancer_mutation_3_prime (0.000967570202232)\n",
      "122. Feature 11, which is count_tissues_cancer_mutation_5_prime (0.000895095887644)\n",
      "123. Feature 118, which is num_TF_repression_3_prime (0.000847752328095)\n",
      "124. Feature 122, which is is_epigenetic_complex_3_prime (0.000844796191904)\n",
      "125. Feature 116, which is num_TF_interactions_3_prime (0.000837751288526)\n",
      "126. Feature 4, which is is_cancer_stringent_5_prime (0.000835915423474)\n",
      "127. Feature 7, which is epithelial_cancer_mutation_5_prime (0.000814583043435)\n",
      "128. Feature 5, which is somatic_cancer_mutation_5_prime (0.000755356364255)\n",
      "129. Feature 45, which is loc_plasma_membrane_5_prime (0.000709454663587)\n",
      "130. Feature 117, which is num_TF_activation_3_prime (0.000641479965314)\n",
      "131. Feature 63, which is is_KEGG_cancer_pathway_5_prime (0.000573861272837)\n",
      "132. Feature 149, which is is_KEGG_cancer_pathway_3_prime (0.000561178875541)\n",
      "133. Feature 104, which is kinase_AGC_3_prime (0.000504538900373)\n",
      "134. Feature 87, which is is_TSG_3_prime (0.000502335776123)\n",
      "135. Feature 6, which is germline_cancer_mutation_5_prime (0.000500841006382)\n",
      "136. Feature 42, which is loc_nucleolus_5_prime (0.00042033287358)\n",
      "137. Feature 100, which is is_essential_3_prime (0.000396528917956)\n",
      "138. Feature 19, which is kinase_Atypical_5_prime (0.00037905833851)\n",
      "139. Feature 120, which is is_histone_modification_3_prime (0.000304186408063)\n",
      "140. Feature 24, which is kinase_Other_5_prime (0.000300244727157)\n",
      "141. Feature 106, which is kinase_CAMK_3_prime (0.000293364156324)\n",
      "142. Feature 93, which is epithelial_cancer_mutation_3_prime (0.000195369873195)\n",
      "143. Feature 88, which is num_cancers_downreg_TSG_3_prime (0.000142356162567)\n",
      "144. Feature 9, which is mesenchymal_cancer_mutation_5_prime (0.0)\n",
      "145. Feature 22, which is kinase_CMGC_5_prime (0.0)\n",
      "146. Feature 18, which is kinase_AGC_5_prime (0.0)\n",
      "147. Feature 20, which is kinase_CAMK_5_prime (0.0)\n",
      "148. Feature 21, which is kinase_CK1_5_prime (0.0)\n",
      "149. Feature 92, which is germline_cancer_mutation_3_prime (0.0)\n",
      "150. Feature 23, which is kinase_NEK_5_prime (0.0)\n",
      "151. Feature 111, which is kinase_RGC_3_prime (0.0)\n",
      "152. Feature 90, which is is_cancer_stringent_3_prime (0.0)\n",
      "153. Feature 95, which is mesenchymal_cancer_mutation_3_prime (0.0)\n",
      "154. Feature 96, which is other_tissue_cancer_mutation_3_prime (0.0)\n",
      "155. Feature 102, which is loss_phenotype_3_prime (0.0)\n",
      "156. Feature 105, which is kinase_Atypical_3_prime (0.0)\n",
      "157. Feature 107, which is kinase_CK1_3_prime (0.0)\n",
      "158. Feature 108, which is kinase_CMGC_3_prime (0.0)\n",
      "159. Feature 109, which is kinase_NEK_3_prime (0.0)\n",
      "160. Feature 110, which is kinase_Other_3_prime (0.0)\n",
      "161. Feature 112, which is kinase_STE_3_prime (0.0)\n",
      "162. Feature 25, which is kinase_RGC_5_prime (0.0)\n",
      "163. Feature 113, which is kinase_TKL_3_prime (0.0)\n",
      "164. Feature 114, which is kinase_Tyr_3_prime (0.0)\n",
      "165. Feature 115, which is is_TF_3_prime (0.0)\n",
      "166. Feature 121, which is is_other_epigenetic_3_prime (0.0)\n",
      "167. Feature 35, which is is_other_epigenetic_5_prime (0.0)\n",
      "168. Feature 33, which is is_chromatin_remodelling_5_prime (0.0)\n",
      "169. Feature 28, which is kinase_Tyr_5_prime (0.0)\n",
      "170. Feature 27, which is kinase_TKL_5_prime (0.0)\n",
      "171. Feature 26, which is kinase_STE_5_prime (0.0)\n",
      "172. Feature 0, which is is_oncogene_5_prime (0.0)\n"
     ]
    },
    {
     "ename": "NameError",
     "evalue": "name 'plt' is not defined",
     "output_type": "error",
     "traceback": [
      "\u001b[0;31m---------------------------------------------------------------------------\u001b[0m",
      "\u001b[0;31mNameError\u001b[0m                                 Traceback (most recent call last)",
      "\u001b[0;32m<ipython-input-89-f73cfe86d2cb>\u001b[0m in \u001b[0;36m<module>\u001b[0;34m()\u001b[0m\n\u001b[1;32m     13\u001b[0m \u001b[0;34m\u001b[0m\u001b[0m\n\u001b[1;32m     14\u001b[0m \u001b[0;31m# Plot the feature importances of the forest\u001b[0m\u001b[0;34m\u001b[0m\u001b[0;34m\u001b[0m\u001b[0m\n\u001b[0;32m---> 15\u001b[0;31m \u001b[0mplt\u001b[0m\u001b[0;34m.\u001b[0m\u001b[0mfigure\u001b[0m\u001b[0;34m(\u001b[0m\u001b[0;34m)\u001b[0m\u001b[0;34m\u001b[0m\u001b[0m\n\u001b[0m\u001b[1;32m     16\u001b[0m \u001b[0mplt\u001b[0m\u001b[0;34m.\u001b[0m\u001b[0mtitle\u001b[0m\u001b[0;34m(\u001b[0m\u001b[0;34m\"Feature importances\"\u001b[0m\u001b[0;34m)\u001b[0m\u001b[0;34m\u001b[0m\u001b[0m\n\u001b[1;32m     17\u001b[0m plt.bar(range(X.shape[1]), importances[indices],\n",
      "\u001b[0;31mNameError\u001b[0m: name 'plt' is not defined"
     ]
    }
   ],
   "source": [
    "#Examine feature importance\n",
    "importances = rf.feature_importances_\n",
    "std = np.std([tree.feature_importances_ for tree in rf.estimators_], axis=0)\n",
    "indices = np.argsort(importances)[::-1]\n",
    "\n",
    "# Print the feature ranking\n",
    "print(\"Feature ranking:\")\n",
    "for f in range(X.shape[1]):\n",
    "    print(\"{}. Feature {}, which is {} ({})\".format(f + 1, \n",
    "                                       indices[f], \n",
    "                                       features_considered[indices[f]],\n",
    "                                       importances[indices[f]]))\n",
    "    \n",
    "# Plot the feature importances of the forest\n",
    "plt.figure()\n",
    "plt.title(\"Feature importances\")\n",
    "plt.bar(range(X.shape[1]), importances[indices],\n",
    "       color=\"r\", yerr=std[indices], align=\"center\")\n",
    "plt.xticks(range(X.shape[1]), indices)\n",
    "plt.xlim([-1, X.shape[1]])\n",
    "plt.show()"
   ]
  },
  {
   "cell_type": "code",
   "execution_count": 90,
   "metadata": {
    "collapsed": true
   },
   "outputs": [],
   "source": [
    "# write out feature importance\n",
    "out_file = \"/Users/natashal/Projects/fusion_ML/modelling/rf_feature_importance_metastasis_balanced_downsampling.csv\"\n",
    "\n",
    "with open(out_file, 'wb') as outf:\n",
    "    writer = csv.writer(outf)\n",
    "    for f in range(X.shape[1]):\n",
    "        row = indices[f], features_considered[indices[f]], importances[indices[f]]\n",
    "        writer.writerow(row)"
   ]
  },
  {
   "cell_type": "code",
   "execution_count": null,
   "metadata": {
    "collapsed": true
   },
   "outputs": [],
   "source": []
  }
 ],
 "metadata": {
  "kernelspec": {
   "display_name": "Python 2",
   "language": "python",
   "name": "python2"
  },
  "language_info": {
   "codemirror_mode": {
    "name": "ipython",
    "version": 2
   },
   "file_extension": ".py",
   "mimetype": "text/x-python",
   "name": "python",
   "nbconvert_exporter": "python",
   "pygments_lexer": "ipython2",
   "version": "2.7.11"
  }
 },
 "nbformat": 4,
 "nbformat_minor": 0
}
